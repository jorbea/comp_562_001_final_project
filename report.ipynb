{
 "cells": [
  {
   "cell_type": "markdown",
   "metadata": {},
   "source": [
    "## Credit Score Classification\n",
    "\n",
    "Final project for COMP 562-001 by Jordan Bean (PID: 730151647)."
   ]
  },
  {
   "cell_type": "code",
   "execution_count": 16,
   "metadata": {},
   "outputs": [
    {
     "name": "stderr",
     "output_type": "stream",
     "text": [
      "/Users/Jordan/.julia/conda/3/lib/python3.9/site-packages/IPython/core/interactiveshell.py:3444: DtypeWarning: Columns (26) have mixed types.Specify dtype option on import or set low_memory=False.\n",
      "  exec(code_obj, self.user_global_ns, self.user_ns)\n"
     ]
    },
    {
     "data": {
      "text/html": [
       "<div>\n",
       "<style scoped>\n",
       "    .dataframe tbody tr th:only-of-type {\n",
       "        vertical-align: middle;\n",
       "    }\n",
       "\n",
       "    .dataframe tbody tr th {\n",
       "        vertical-align: top;\n",
       "    }\n",
       "\n",
       "    .dataframe thead th {\n",
       "        text-align: right;\n",
       "    }\n",
       "</style>\n",
       "<table border=\"1\" class=\"dataframe\">\n",
       "  <thead>\n",
       "    <tr style=\"text-align: right;\">\n",
       "      <th></th>\n",
       "      <th>ID</th>\n",
       "      <th>Customer_ID</th>\n",
       "      <th>Month</th>\n",
       "      <th>Name</th>\n",
       "      <th>Age</th>\n",
       "      <th>SSN</th>\n",
       "      <th>Occupation</th>\n",
       "      <th>Annual_Income</th>\n",
       "      <th>Monthly_Inhand_Salary</th>\n",
       "      <th>Num_Bank_Accounts</th>\n",
       "      <th>...</th>\n",
       "      <th>Credit_Mix</th>\n",
       "      <th>Outstanding_Debt</th>\n",
       "      <th>Credit_Utilization_Ratio</th>\n",
       "      <th>Credit_History_Age</th>\n",
       "      <th>Payment_of_Min_Amount</th>\n",
       "      <th>Total_EMI_per_month</th>\n",
       "      <th>Amount_invested_monthly</th>\n",
       "      <th>Payment_Behaviour</th>\n",
       "      <th>Monthly_Balance</th>\n",
       "      <th>Credit_Score</th>\n",
       "    </tr>\n",
       "  </thead>\n",
       "  <tbody>\n",
       "    <tr>\n",
       "      <th>0</th>\n",
       "      <td>0x1602</td>\n",
       "      <td>CUS_0xd40</td>\n",
       "      <td>January</td>\n",
       "      <td>Aaron Maashoh</td>\n",
       "      <td>23</td>\n",
       "      <td>821-00-0265</td>\n",
       "      <td>Scientist</td>\n",
       "      <td>19114.12</td>\n",
       "      <td>1824.843333</td>\n",
       "      <td>3</td>\n",
       "      <td>...</td>\n",
       "      <td>_</td>\n",
       "      <td>809.98</td>\n",
       "      <td>26.822620</td>\n",
       "      <td>22 Years and 1 Months</td>\n",
       "      <td>No</td>\n",
       "      <td>49.574949</td>\n",
       "      <td>80.41529543900253</td>\n",
       "      <td>High_spent_Small_value_payments</td>\n",
       "      <td>312.49408867943663</td>\n",
       "      <td>Good</td>\n",
       "    </tr>\n",
       "    <tr>\n",
       "      <th>1</th>\n",
       "      <td>0x1603</td>\n",
       "      <td>CUS_0xd40</td>\n",
       "      <td>February</td>\n",
       "      <td>Aaron Maashoh</td>\n",
       "      <td>23</td>\n",
       "      <td>821-00-0265</td>\n",
       "      <td>Scientist</td>\n",
       "      <td>19114.12</td>\n",
       "      <td>NaN</td>\n",
       "      <td>3</td>\n",
       "      <td>...</td>\n",
       "      <td>Good</td>\n",
       "      <td>809.98</td>\n",
       "      <td>31.944960</td>\n",
       "      <td>NaN</td>\n",
       "      <td>No</td>\n",
       "      <td>49.574949</td>\n",
       "      <td>118.28022162236736</td>\n",
       "      <td>Low_spent_Large_value_payments</td>\n",
       "      <td>284.62916249607184</td>\n",
       "      <td>Good</td>\n",
       "    </tr>\n",
       "    <tr>\n",
       "      <th>2</th>\n",
       "      <td>0x1604</td>\n",
       "      <td>CUS_0xd40</td>\n",
       "      <td>March</td>\n",
       "      <td>Aaron Maashoh</td>\n",
       "      <td>-500</td>\n",
       "      <td>821-00-0265</td>\n",
       "      <td>Scientist</td>\n",
       "      <td>19114.12</td>\n",
       "      <td>NaN</td>\n",
       "      <td>3</td>\n",
       "      <td>...</td>\n",
       "      <td>Good</td>\n",
       "      <td>809.98</td>\n",
       "      <td>28.609352</td>\n",
       "      <td>22 Years and 3 Months</td>\n",
       "      <td>No</td>\n",
       "      <td>49.574949</td>\n",
       "      <td>81.699521264648</td>\n",
       "      <td>Low_spent_Medium_value_payments</td>\n",
       "      <td>331.2098628537912</td>\n",
       "      <td>Good</td>\n",
       "    </tr>\n",
       "    <tr>\n",
       "      <th>3</th>\n",
       "      <td>0x1605</td>\n",
       "      <td>CUS_0xd40</td>\n",
       "      <td>April</td>\n",
       "      <td>Aaron Maashoh</td>\n",
       "      <td>23</td>\n",
       "      <td>821-00-0265</td>\n",
       "      <td>Scientist</td>\n",
       "      <td>19114.12</td>\n",
       "      <td>NaN</td>\n",
       "      <td>3</td>\n",
       "      <td>...</td>\n",
       "      <td>Good</td>\n",
       "      <td>809.98</td>\n",
       "      <td>31.377862</td>\n",
       "      <td>22 Years and 4 Months</td>\n",
       "      <td>No</td>\n",
       "      <td>49.574949</td>\n",
       "      <td>199.4580743910713</td>\n",
       "      <td>Low_spent_Small_value_payments</td>\n",
       "      <td>223.45130972736786</td>\n",
       "      <td>Good</td>\n",
       "    </tr>\n",
       "    <tr>\n",
       "      <th>4</th>\n",
       "      <td>0x1606</td>\n",
       "      <td>CUS_0xd40</td>\n",
       "      <td>May</td>\n",
       "      <td>Aaron Maashoh</td>\n",
       "      <td>23</td>\n",
       "      <td>821-00-0265</td>\n",
       "      <td>Scientist</td>\n",
       "      <td>19114.12</td>\n",
       "      <td>1824.843333</td>\n",
       "      <td>3</td>\n",
       "      <td>...</td>\n",
       "      <td>Good</td>\n",
       "      <td>809.98</td>\n",
       "      <td>24.797347</td>\n",
       "      <td>22 Years and 5 Months</td>\n",
       "      <td>No</td>\n",
       "      <td>49.574949</td>\n",
       "      <td>41.420153086217326</td>\n",
       "      <td>High_spent_Medium_value_payments</td>\n",
       "      <td>341.48923103222177</td>\n",
       "      <td>Good</td>\n",
       "    </tr>\n",
       "    <tr>\n",
       "      <th>5</th>\n",
       "      <td>0x1607</td>\n",
       "      <td>CUS_0xd40</td>\n",
       "      <td>June</td>\n",
       "      <td>Aaron Maashoh</td>\n",
       "      <td>23</td>\n",
       "      <td>821-00-0265</td>\n",
       "      <td>Scientist</td>\n",
       "      <td>19114.12</td>\n",
       "      <td>NaN</td>\n",
       "      <td>3</td>\n",
       "      <td>...</td>\n",
       "      <td>Good</td>\n",
       "      <td>809.98</td>\n",
       "      <td>27.262259</td>\n",
       "      <td>22 Years and 6 Months</td>\n",
       "      <td>No</td>\n",
       "      <td>49.574949</td>\n",
       "      <td>62.430172331195294</td>\n",
       "      <td>!@9#%8</td>\n",
       "      <td>340.4792117872438</td>\n",
       "      <td>Good</td>\n",
       "    </tr>\n",
       "    <tr>\n",
       "      <th>6</th>\n",
       "      <td>0x1608</td>\n",
       "      <td>CUS_0xd40</td>\n",
       "      <td>July</td>\n",
       "      <td>Aaron Maashoh</td>\n",
       "      <td>23</td>\n",
       "      <td>821-00-0265</td>\n",
       "      <td>Scientist</td>\n",
       "      <td>19114.12</td>\n",
       "      <td>1824.843333</td>\n",
       "      <td>3</td>\n",
       "      <td>...</td>\n",
       "      <td>Good</td>\n",
       "      <td>809.98</td>\n",
       "      <td>22.537593</td>\n",
       "      <td>22 Years and 7 Months</td>\n",
       "      <td>No</td>\n",
       "      <td>49.574949</td>\n",
       "      <td>178.3440674122349</td>\n",
       "      <td>Low_spent_Small_value_payments</td>\n",
       "      <td>244.5653167062043</td>\n",
       "      <td>Good</td>\n",
       "    </tr>\n",
       "    <tr>\n",
       "      <th>7</th>\n",
       "      <td>0x1609</td>\n",
       "      <td>CUS_0xd40</td>\n",
       "      <td>August</td>\n",
       "      <td>NaN</td>\n",
       "      <td>23</td>\n",
       "      <td>#F%$D@*&amp;8</td>\n",
       "      <td>Scientist</td>\n",
       "      <td>19114.12</td>\n",
       "      <td>1824.843333</td>\n",
       "      <td>3</td>\n",
       "      <td>...</td>\n",
       "      <td>Good</td>\n",
       "      <td>809.98</td>\n",
       "      <td>23.933795</td>\n",
       "      <td>NaN</td>\n",
       "      <td>No</td>\n",
       "      <td>49.574949</td>\n",
       "      <td>24.785216509052056</td>\n",
       "      <td>High_spent_Medium_value_payments</td>\n",
       "      <td>358.12416760938714</td>\n",
       "      <td>Standard</td>\n",
       "    </tr>\n",
       "    <tr>\n",
       "      <th>8</th>\n",
       "      <td>0x160e</td>\n",
       "      <td>CUS_0x21b1</td>\n",
       "      <td>January</td>\n",
       "      <td>Rick Rothackerj</td>\n",
       "      <td>28_</td>\n",
       "      <td>004-07-5839</td>\n",
       "      <td>_______</td>\n",
       "      <td>34847.84</td>\n",
       "      <td>3037.986667</td>\n",
       "      <td>2</td>\n",
       "      <td>...</td>\n",
       "      <td>Good</td>\n",
       "      <td>605.03</td>\n",
       "      <td>24.464031</td>\n",
       "      <td>26 Years and 7 Months</td>\n",
       "      <td>No</td>\n",
       "      <td>18.816215</td>\n",
       "      <td>104.291825168246</td>\n",
       "      <td>Low_spent_Small_value_payments</td>\n",
       "      <td>470.69062692529184</td>\n",
       "      <td>Standard</td>\n",
       "    </tr>\n",
       "    <tr>\n",
       "      <th>9</th>\n",
       "      <td>0x160f</td>\n",
       "      <td>CUS_0x21b1</td>\n",
       "      <td>February</td>\n",
       "      <td>Rick Rothackerj</td>\n",
       "      <td>28</td>\n",
       "      <td>004-07-5839</td>\n",
       "      <td>Teacher</td>\n",
       "      <td>34847.84</td>\n",
       "      <td>3037.986667</td>\n",
       "      <td>2</td>\n",
       "      <td>...</td>\n",
       "      <td>Good</td>\n",
       "      <td>605.03</td>\n",
       "      <td>38.550848</td>\n",
       "      <td>26 Years and 8 Months</td>\n",
       "      <td>No</td>\n",
       "      <td>18.816215</td>\n",
       "      <td>40.39123782853101</td>\n",
       "      <td>High_spent_Large_value_payments</td>\n",
       "      <td>484.5912142650067</td>\n",
       "      <td>Good</td>\n",
       "    </tr>\n",
       "  </tbody>\n",
       "</table>\n",
       "<p>10 rows × 28 columns</p>\n",
       "</div>"
      ],
      "text/plain": [
       "       ID Customer_ID     Month             Name   Age          SSN  \\\n",
       "0  0x1602   CUS_0xd40   January    Aaron Maashoh    23  821-00-0265   \n",
       "1  0x1603   CUS_0xd40  February    Aaron Maashoh    23  821-00-0265   \n",
       "2  0x1604   CUS_0xd40     March    Aaron Maashoh  -500  821-00-0265   \n",
       "3  0x1605   CUS_0xd40     April    Aaron Maashoh    23  821-00-0265   \n",
       "4  0x1606   CUS_0xd40       May    Aaron Maashoh    23  821-00-0265   \n",
       "5  0x1607   CUS_0xd40      June    Aaron Maashoh    23  821-00-0265   \n",
       "6  0x1608   CUS_0xd40      July    Aaron Maashoh    23  821-00-0265   \n",
       "7  0x1609   CUS_0xd40    August              NaN    23    #F%$D@*&8   \n",
       "8  0x160e  CUS_0x21b1   January  Rick Rothackerj   28_  004-07-5839   \n",
       "9  0x160f  CUS_0x21b1  February  Rick Rothackerj    28  004-07-5839   \n",
       "\n",
       "  Occupation Annual_Income  Monthly_Inhand_Salary  Num_Bank_Accounts  ...  \\\n",
       "0  Scientist      19114.12            1824.843333                  3  ...   \n",
       "1  Scientist      19114.12                    NaN                  3  ...   \n",
       "2  Scientist      19114.12                    NaN                  3  ...   \n",
       "3  Scientist      19114.12                    NaN                  3  ...   \n",
       "4  Scientist      19114.12            1824.843333                  3  ...   \n",
       "5  Scientist      19114.12                    NaN                  3  ...   \n",
       "6  Scientist      19114.12            1824.843333                  3  ...   \n",
       "7  Scientist      19114.12            1824.843333                  3  ...   \n",
       "8    _______      34847.84            3037.986667                  2  ...   \n",
       "9    Teacher      34847.84            3037.986667                  2  ...   \n",
       "\n",
       "   Credit_Mix  Outstanding_Debt Credit_Utilization_Ratio  \\\n",
       "0           _            809.98                26.822620   \n",
       "1        Good            809.98                31.944960   \n",
       "2        Good            809.98                28.609352   \n",
       "3        Good            809.98                31.377862   \n",
       "4        Good            809.98                24.797347   \n",
       "5        Good            809.98                27.262259   \n",
       "6        Good            809.98                22.537593   \n",
       "7        Good            809.98                23.933795   \n",
       "8        Good            605.03                24.464031   \n",
       "9        Good            605.03                38.550848   \n",
       "\n",
       "      Credit_History_Age  Payment_of_Min_Amount Total_EMI_per_month  \\\n",
       "0  22 Years and 1 Months                     No           49.574949   \n",
       "1                    NaN                     No           49.574949   \n",
       "2  22 Years and 3 Months                     No           49.574949   \n",
       "3  22 Years and 4 Months                     No           49.574949   \n",
       "4  22 Years and 5 Months                     No           49.574949   \n",
       "5  22 Years and 6 Months                     No           49.574949   \n",
       "6  22 Years and 7 Months                     No           49.574949   \n",
       "7                    NaN                     No           49.574949   \n",
       "8  26 Years and 7 Months                     No           18.816215   \n",
       "9  26 Years and 8 Months                     No           18.816215   \n",
       "\n",
       "  Amount_invested_monthly                 Payment_Behaviour  \\\n",
       "0       80.41529543900253   High_spent_Small_value_payments   \n",
       "1      118.28022162236736    Low_spent_Large_value_payments   \n",
       "2         81.699521264648   Low_spent_Medium_value_payments   \n",
       "3       199.4580743910713    Low_spent_Small_value_payments   \n",
       "4      41.420153086217326  High_spent_Medium_value_payments   \n",
       "5      62.430172331195294                            !@9#%8   \n",
       "6       178.3440674122349    Low_spent_Small_value_payments   \n",
       "7      24.785216509052056  High_spent_Medium_value_payments   \n",
       "8        104.291825168246    Low_spent_Small_value_payments   \n",
       "9       40.39123782853101   High_spent_Large_value_payments   \n",
       "\n",
       "      Monthly_Balance Credit_Score  \n",
       "0  312.49408867943663         Good  \n",
       "1  284.62916249607184         Good  \n",
       "2   331.2098628537912         Good  \n",
       "3  223.45130972736786         Good  \n",
       "4  341.48923103222177         Good  \n",
       "5   340.4792117872438         Good  \n",
       "6   244.5653167062043         Good  \n",
       "7  358.12416760938714     Standard  \n",
       "8  470.69062692529184     Standard  \n",
       "9   484.5912142650067         Good  \n",
       "\n",
       "[10 rows x 28 columns]"
      ]
     },
     "execution_count": 16,
     "metadata": {},
     "output_type": "execute_result"
    }
   ],
   "source": [
    "import pandas as pd\n",
    "import numpy as np\n",
    "\n",
    "# Read data into a dataframe\n",
    "data = pd.read_csv('data/train.csv')\n",
    "\n",
    "# Display top of dataframe\n",
    "data.head(10)"
   ]
  },
  {
   "cell_type": "code",
   "execution_count": 17,
   "metadata": {},
   "outputs": [
    {
     "name": "stdout",
     "output_type": "stream",
     "text": [
      "<class 'pandas.core.frame.DataFrame'>\n",
      "RangeIndex: 100000 entries, 0 to 99999\n",
      "Data columns (total 28 columns):\n",
      " #   Column                    Non-Null Count   Dtype  \n",
      "---  ------                    --------------   -----  \n",
      " 0   ID                        100000 non-null  object \n",
      " 1   Customer_ID               100000 non-null  object \n",
      " 2   Month                     100000 non-null  object \n",
      " 3   Name                      90015 non-null   object \n",
      " 4   Age                       100000 non-null  object \n",
      " 5   SSN                       100000 non-null  object \n",
      " 6   Occupation                100000 non-null  object \n",
      " 7   Annual_Income             100000 non-null  object \n",
      " 8   Monthly_Inhand_Salary     84998 non-null   float64\n",
      " 9   Num_Bank_Accounts         100000 non-null  int64  \n",
      " 10  Num_Credit_Card           100000 non-null  int64  \n",
      " 11  Interest_Rate             100000 non-null  int64  \n",
      " 12  Num_of_Loan               100000 non-null  object \n",
      " 13  Type_of_Loan              88592 non-null   object \n",
      " 14  Delay_from_due_date       100000 non-null  int64  \n",
      " 15  Num_of_Delayed_Payment    92998 non-null   object \n",
      " 16  Changed_Credit_Limit      100000 non-null  object \n",
      " 17  Num_Credit_Inquiries      98035 non-null   float64\n",
      " 18  Credit_Mix                100000 non-null  object \n",
      " 19  Outstanding_Debt          100000 non-null  object \n",
      " 20  Credit_Utilization_Ratio  100000 non-null  float64\n",
      " 21  Credit_History_Age        90970 non-null   object \n",
      " 22  Payment_of_Min_Amount     100000 non-null  object \n",
      " 23  Total_EMI_per_month       100000 non-null  float64\n",
      " 24  Amount_invested_monthly   95521 non-null   object \n",
      " 25  Payment_Behaviour         100000 non-null  object \n",
      " 26  Monthly_Balance           98800 non-null   object \n",
      " 27  Credit_Score              100000 non-null  object \n",
      "dtypes: float64(4), int64(4), object(20)\n",
      "memory usage: 21.4+ MB\n"
     ]
    }
   ],
   "source": [
    "# Check data types\n",
    "data.info()"
   ]
  },
  {
   "cell_type": "markdown",
   "metadata": {},
   "source": [
    "### (1) Data Cleaning"
   ]
  },
  {
   "cell_type": "code",
   "execution_count": 18,
   "metadata": {},
   "outputs": [],
   "source": [
    "# Replace all occurrences of Not Available with numpy not a number\n",
    "data = data.replace({'Not Available': np.nan})\n",
    "\n",
    "# Iterate through the columns, remove unnecessary characters (if applicable), and convert to appropriate data type\n",
    "for col in list(data.columns):\n",
    "    if ('Month' == col or 'Name' in col or 'SSN' in col or 'Occupation' in col or 'Credit_Mix' in col or\n",
    "        'Credit_History_Age' in col or 'ID' in col or 'Type_of_Loan' in col or \n",
    "        'Payment_of_Min_Amount' in col or 'Payment_Behaviour' in col):\n",
    "        data[col] = data[col].astype('string')\n",
    "        if ('Occupation' in col):\n",
    "            data[col] = data[col].str.replace(\"_______\", \"NaN\")\n",
    "    elif ('Age' in col or 'Num_of_Loan' in col):\n",
    "        data[col] = data[col].astype('string')\n",
    "        data[col] = data[col].str.replace(\"_\", \"\")\n",
    "        data[col] = data[col].str.replace(\"-\", \"\")\n",
    "        data[col] = data[col].astype('int')\n",
    "        # data[col].where(data['Age'] > 99, np.nan, inplace=True)\n",
    "    elif ('Annual_Income' in col or 'Outstanding_Debt' in col or \n",
    "        'Monthly_Balance' in col or 'Amount_invested_monthly' in col):\n",
    "        data[col] = data[col].str.replace(\"_\", \"\")\n",
    "        data[col] = data[col].astype('float')\n",
    "    elif ('Credit_Score' in col):\n",
    "            for record in col:\n",
    "                data[col] = data[col].replace(\"Good\", 2)\n",
    "                data[col] = data[col].replace(\"Standard\", 1)\n",
    "                data[col] = data[col].replace(\"Poor\", 0)\n",
    "\n",
    "# Could not convert Num_of_Delayed_Payment or Changed_Credit_Limit"
   ]
  },
  {
   "cell_type": "code",
   "execution_count": 19,
   "metadata": {},
   "outputs": [
    {
     "name": "stdout",
     "output_type": "stream",
     "text": [
      "<class 'pandas.core.frame.DataFrame'>\n",
      "RangeIndex: 100000 entries, 0 to 99999\n",
      "Data columns (total 28 columns):\n",
      " #   Column                    Non-Null Count   Dtype  \n",
      "---  ------                    --------------   -----  \n",
      " 0   ID                        100000 non-null  string \n",
      " 1   Customer_ID               100000 non-null  string \n",
      " 2   Month                     100000 non-null  string \n",
      " 3   Name                      90015 non-null   string \n",
      " 4   Age                       100000 non-null  int64  \n",
      " 5   SSN                       100000 non-null  string \n",
      " 6   Occupation                100000 non-null  string \n",
      " 7   Annual_Income             100000 non-null  float64\n",
      " 8   Monthly_Inhand_Salary     84998 non-null   float64\n",
      " 9   Num_Bank_Accounts         100000 non-null  int64  \n",
      " 10  Num_Credit_Card           100000 non-null  int64  \n",
      " 11  Interest_Rate             100000 non-null  int64  \n",
      " 12  Num_of_Loan               100000 non-null  int64  \n",
      " 13  Type_of_Loan              88592 non-null   string \n",
      " 14  Delay_from_due_date       100000 non-null  int64  \n",
      " 15  Num_of_Delayed_Payment    92998 non-null   object \n",
      " 16  Changed_Credit_Limit      100000 non-null  object \n",
      " 17  Num_Credit_Inquiries      98035 non-null   float64\n",
      " 18  Credit_Mix                100000 non-null  string \n",
      " 19  Outstanding_Debt          100000 non-null  float64\n",
      " 20  Credit_Utilization_Ratio  100000 non-null  float64\n",
      " 21  Credit_History_Age        90970 non-null   string \n",
      " 22  Payment_of_Min_Amount     100000 non-null  string \n",
      " 23  Total_EMI_per_month       100000 non-null  float64\n",
      " 24  Amount_invested_monthly   95521 non-null   float64\n",
      " 25  Payment_Behaviour         100000 non-null  string \n",
      " 26  Monthly_Balance           97132 non-null   float64\n",
      " 27  Credit_Score              100000 non-null  int64  \n",
      "dtypes: float64(8), int64(7), object(2), string(11)\n",
      "memory usage: 21.4+ MB\n"
     ]
    }
   ],
   "source": [
    "# Check data types\n",
    "data.info()"
   ]
  },
  {
   "cell_type": "code",
   "execution_count": 20,
   "metadata": {},
   "outputs": [],
   "source": [
    "# Function to calculate missing values by column\n",
    "def missing_values_table(df):\n",
    "        # Total missing values\n",
    "        mis_val = df.isnull().sum()\n",
    "        \n",
    "        # Percentage of missing values\n",
    "        mis_val_percent = 100 * df.isnull().sum() / len(df)\n",
    "        \n",
    "        # Make a table with the results\n",
    "        mis_val_table = pd.concat([mis_val, mis_val_percent], axis=1)\n",
    "        \n",
    "        # Rename the columns\n",
    "        mis_val_table_ren_columns = mis_val_table.rename(\n",
    "        columns = {0 : 'Missing Values', 1 : '% of Total Values'})\n",
    "        \n",
    "        # Sort the table by percentage of missing descending\n",
    "        mis_val_table_ren_columns = mis_val_table_ren_columns[\n",
    "            mis_val_table_ren_columns.iloc[:,1] != 0].sort_values(\n",
    "        '% of Total Values', ascending=False).round(1)\n",
    "        \n",
    "        # Print some summary information\n",
    "        print (\"Your selected dataframe has \" + str(df.shape[1]) + \" columns.\\n\"      \n",
    "            \"There are \" + str(mis_val_table_ren_columns.shape[0]) +\n",
    "              \" columns that have missing values.\")\n",
    "        \n",
    "        # Return the dataframe with missing information\n",
    "        return mis_val_table_ren_columns"
   ]
  },
  {
   "cell_type": "code",
   "execution_count": 21,
   "metadata": {},
   "outputs": [
    {
     "name": "stdout",
     "output_type": "stream",
     "text": [
      "Your selected dataframe has 28 columns.\n",
      "There are 8 columns that have missing values.\n"
     ]
    },
    {
     "data": {
      "text/html": [
       "<div>\n",
       "<style scoped>\n",
       "    .dataframe tbody tr th:only-of-type {\n",
       "        vertical-align: middle;\n",
       "    }\n",
       "\n",
       "    .dataframe tbody tr th {\n",
       "        vertical-align: top;\n",
       "    }\n",
       "\n",
       "    .dataframe thead th {\n",
       "        text-align: right;\n",
       "    }\n",
       "</style>\n",
       "<table border=\"1\" class=\"dataframe\">\n",
       "  <thead>\n",
       "    <tr style=\"text-align: right;\">\n",
       "      <th></th>\n",
       "      <th>Missing Values</th>\n",
       "      <th>% of Total Values</th>\n",
       "    </tr>\n",
       "  </thead>\n",
       "  <tbody>\n",
       "    <tr>\n",
       "      <th>Monthly_Inhand_Salary</th>\n",
       "      <td>15002</td>\n",
       "      <td>15.0</td>\n",
       "    </tr>\n",
       "    <tr>\n",
       "      <th>Type_of_Loan</th>\n",
       "      <td>11408</td>\n",
       "      <td>11.4</td>\n",
       "    </tr>\n",
       "    <tr>\n",
       "      <th>Name</th>\n",
       "      <td>9985</td>\n",
       "      <td>10.0</td>\n",
       "    </tr>\n",
       "    <tr>\n",
       "      <th>Credit_History_Age</th>\n",
       "      <td>9030</td>\n",
       "      <td>9.0</td>\n",
       "    </tr>\n",
       "    <tr>\n",
       "      <th>Num_of_Delayed_Payment</th>\n",
       "      <td>7002</td>\n",
       "      <td>7.0</td>\n",
       "    </tr>\n",
       "    <tr>\n",
       "      <th>Amount_invested_monthly</th>\n",
       "      <td>4479</td>\n",
       "      <td>4.5</td>\n",
       "    </tr>\n",
       "    <tr>\n",
       "      <th>Monthly_Balance</th>\n",
       "      <td>2868</td>\n",
       "      <td>2.9</td>\n",
       "    </tr>\n",
       "    <tr>\n",
       "      <th>Num_Credit_Inquiries</th>\n",
       "      <td>1965</td>\n",
       "      <td>2.0</td>\n",
       "    </tr>\n",
       "  </tbody>\n",
       "</table>\n",
       "</div>"
      ],
      "text/plain": [
       "                         Missing Values  % of Total Values\n",
       "Monthly_Inhand_Salary             15002               15.0\n",
       "Type_of_Loan                      11408               11.4\n",
       "Name                               9985               10.0\n",
       "Credit_History_Age                 9030                9.0\n",
       "Num_of_Delayed_Payment             7002                7.0\n",
       "Amount_invested_monthly            4479                4.5\n",
       "Monthly_Balance                    2868                2.9\n",
       "Num_Credit_Inquiries               1965                2.0"
      ]
     },
     "execution_count": 21,
     "metadata": {},
     "output_type": "execute_result"
    }
   ],
   "source": [
    "missing_values_table(data)"
   ]
  },
  {
   "cell_type": "code",
   "execution_count": 22,
   "metadata": {},
   "outputs": [
    {
     "name": "stdout",
     "output_type": "stream",
     "text": [
      "Your selected dataframe has 28 columns.\n",
      "There are 8 columns that have missing values.\n",
      "We will remove 0 columns.\n"
     ]
    }
   ],
   "source": [
    "# Get the columns with > 50% missing\n",
    "missing_df = missing_values_table(data);\n",
    "missing_columns = list(missing_df[missing_df['% of Total Values'] > 50].index)\n",
    "print('We will remove %d columns.' % len(missing_columns))"
   ]
  },
  {
   "cell_type": "markdown",
   "metadata": {},
   "source": [
    "### (2) Exploratory Analysis"
   ]
  },
  {
   "cell_type": "code",
   "execution_count": 34,
   "metadata": {},
   "outputs": [
    {
     "data": {
      "text/plain": [
       "Text(0.5, 1.0, 'Credit Score Distribution')"
      ]
     },
     "execution_count": 34,
     "metadata": {},
     "output_type": "execute_result"
    },
    {
     "data": {
      "image/png": "[encoded data removed]",
      "text/plain": [
       "<Figure size 360x360 with 1 Axes>"
      ]
     },
     "metadata": {},
     "output_type": "display_data"
    }
   ],
   "source": [
    "import matplotlib.pyplot as plt\n",
    "import seaborn as sns\n",
    "\n",
    "# Histogram of the Credit Score categories\n",
    "plt.figure(figsize=(5,5))\n",
    "plt.hist(data['Credit_Score'].dropna(), bins = 100, edgecolor = 'k')\n",
    "plt.xlabel('Credit Score'); plt.ylabel('Number of observations')\n",
    "plt.title('Credit Score Distribution')"
   ]
  },
  {
   "cell_type": "code",
   "execution_count": 24,
   "metadata": {},
   "outputs": [
    {
     "data": {
      "text/plain": [
       "<AxesSubplot: xlabel='Credit_Score', ylabel='count'>"
      ]
     },
     "execution_count": 24,
     "metadata": {},
     "output_type": "execute_result"
    },
    {
     "data": {
      "image/png": "[encoded data removed]",
      "text/plain": [
       "<Figure size 720x720 with 1 Axes>"
      ]
     },
     "metadata": {},
     "output_type": "display_data"
    }
   ],
   "source": [
    "plt.figure(figsize=(10,10))\n",
    "sns.countplot(x='Credit_Score', hue='Occupation', data=data)"
   ]
  },
  {
   "cell_type": "code",
   "execution_count": 35,
   "metadata": {},
   "outputs": [
    {
     "data": {
      "text/plain": [
       "<AxesSubplot: title={'center': 'Credit_Utilization_Ratio'}, xlabel='Credit_Score'>"
      ]
     },
     "execution_count": 35,
     "metadata": {},
     "output_type": "execute_result"
    },
    {
     "data": {
      "image/png": "[encoded data removed]",
      "text/plain": [
       "<Figure size 360x432 with 1 Axes>"
      ]
     },
     "metadata": {},
     "output_type": "display_data"
    }
   ],
   "source": [
    "data.boxplot(column='Credit_Utilization_Ratio', by='Credit_Score', figsize=(5,6))"
   ]
  },
  {
   "cell_type": "code",
   "execution_count": 29,
   "metadata": {},
   "outputs": [
    {
     "data": {
      "text/plain": [
       "<AxesSubplot: title={'center': 'Outstanding_Debt'}, xlabel='Credit_Score'>"
      ]
     },
     "execution_count": 29,
     "metadata": {},
     "output_type": "execute_result"
    },
    {
     "data": {
      "image/png": "[encoded data removed]",
      "text/plain": [
       "<Figure size 360x432 with 1 Axes>"
      ]
     },
     "metadata": {},
     "output_type": "display_data"
    }
   ],
   "source": [
    "data.boxplot(column='Outstanding_Debt', by='Credit_Score', figsize=(5,6))"
   ]
  },
  {
   "cell_type": "code",
   "execution_count": 30,
   "metadata": {},
   "outputs": [
    {
     "data": {
      "text/plain": [
       "<AxesSubplot: title={'center': 'Monthly_Inhand_Salary'}, xlabel='Credit_Score'>"
      ]
     },
     "execution_count": 30,
     "metadata": {},
     "output_type": "execute_result"
    },
    {
     "data": {
      "image/png": "[encoded data removed]",
      "text/plain": [
       "<Figure size 360x432 with 1 Axes>"
      ]
     },
     "metadata": {},
     "output_type": "display_data"
    }
   ],
   "source": [
    "data.boxplot(column='Monthly_Inhand_Salary', by='Credit_Score', figsize=(5,6))"
   ]
  },
  {
   "cell_type": "code",
   "execution_count": 38,
   "metadata": {},
   "outputs": [
    {
     "data": {
      "text/plain": [
       "<AxesSubplot: title={'center': 'Delay_from_due_date'}, xlabel='Credit_Score'>"
      ]
     },
     "execution_count": 38,
     "metadata": {},
     "output_type": "execute_result"
    },
    {
     "data": {
      "image/png": "[encoded data removed]",
      "text/plain": [
       "<Figure size 360x432 with 1 Axes>"
      ]
     },
     "metadata": {},
     "output_type": "display_data"
    }
   ],
   "source": [
    "data.boxplot(column='Delay_from_due_date', by='Credit_Score', figsize=(5,6))"
   ]
  },
  {
   "cell_type": "code",
   "execution_count": 32,
   "metadata": {},
   "outputs": [
    {
     "name": "stdout",
     "output_type": "stream",
     "text": [
      "Delay_from_due_date        -0.431591\n",
      "Outstanding_Debt           -0.386525\n",
      "Num_Credit_Inquiries       -0.011235\n",
      "Num_Bank_Accounts          -0.010491\n",
      "Num_Credit_Card            -0.007624\n",
      "Num_of_Loan                -0.006802\n",
      "Interest_Rate              -0.002591\n",
      "Monthly_Balance            -0.001610\n",
      "Total_EMI_per_month         0.004382\n",
      "Age                         0.004755\n",
      "Annual_Income               0.008015\n",
      "Amount_invested_monthly     0.011631\n",
      "Credit_Utilization_Ratio    0.045793\n",
      "Monthly_Inhand_Salary       0.209318\n",
      "Credit_Score                1.000000\n",
      "Name: Credit_Score, dtype: float64 \n",
      "\n",
      "Delay_from_due_date        -0.431591\n",
      "Outstanding_Debt           -0.386525\n",
      "Num_Credit_Inquiries       -0.011235\n",
      "Num_Bank_Accounts          -0.010491\n",
      "Num_Credit_Card            -0.007624\n",
      "Num_of_Loan                -0.006802\n",
      "Interest_Rate              -0.002591\n",
      "Monthly_Balance            -0.001610\n",
      "Total_EMI_per_month         0.004382\n",
      "Age                         0.004755\n",
      "Annual_Income               0.008015\n",
      "Amount_invested_monthly     0.011631\n",
      "Credit_Utilization_Ratio    0.045793\n",
      "Monthly_Inhand_Salary       0.209318\n",
      "Credit_Score                1.000000\n",
      "Name: Credit_Score, dtype: float64\n"
     ]
    }
   ],
   "source": [
    "# Find all correlations and sort \n",
    "correlations_data = data.corr()['Credit_Score'].sort_values()\n",
    "\n",
    "# Print the most negative correlations\n",
    "print(correlations_data.head(15), '\\n')\n",
    "\n",
    "# Print the most positive correlations\n",
    "print(correlations_data.tail(15))"
   ]
  },
  {
   "cell_type": "markdown",
   "metadata": {},
   "source": [
    "### (3) "
   ]
  }
 ],
 "metadata": {
  "kernelspec": {
   "display_name": "Python 3.9.5",
   "language": "python",
   "name": "python3"
  },
  "language_info": {
   "codemirror_mode": {
    "name": "ipython",
    "version": 3
   },
   "file_extension": ".py",
   "mimetype": "text/x-python",
   "name": "python",
   "nbconvert_exporter": "python",
   "pygments_lexer": "ipython3",
   "version": "3.9.5"
  },
  "orig_nbformat": 4,
  "vscode": {
   "interpreter": {
    "hash": "6dd88a641b2c9317ad466dbbdaca184b1659de5230ce42c5588760ad060f28f4"
   }
  }
 },
 "nbformat": 4,
 "nbformat_minor": 2
}
